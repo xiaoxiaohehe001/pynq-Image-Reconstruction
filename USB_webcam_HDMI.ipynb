{
 "cells": [
  {
   "cell_type": "code",
   "execution_count": null,
   "metadata": {},
   "outputs": [
    {
     "data": {
      "application/javascript": [
       "\n",
       "require(['notebook/js/codecell'], function(codecell) {\n",
       "  codecell.CodeCell.options_default.highlight_modes[\n",
       "      'magic_text/x-csrc'] = {'reg':[/^%%microblaze/]};\n",
       "  Jupyter.notebook.events.one('kernel_ready.Kernel', function(){\n",
       "      Jupyter.notebook.get_cells().map(function(cell){\n",
       "          if (cell.cell_type == 'code'){ cell.auto_highlight(); } }) ;\n",
       "  });\n",
       "});\n"
      ]
     },
     "metadata": {},
     "output_type": "display_data"
    },
    {
     "name": "stdout",
     "output_type": "stream",
     "text": [
      "Capture device is open: True\n"
     ]
    }
   ],
   "source": [
    "from pynq.overlays.base import BaseOverlay\n",
    "from pynq.lib.video import *\n",
    "import cv2\n",
    "import numpy as np\n",
    "%matplotlib inline \n",
    "from matplotlib import pyplot as plt\n",
    "base = BaseOverlay(\"base.bit\")\n",
    "\n",
    "# monitor configuration: 640*480 @ 60Hz\n",
    "Mode = VideoMode(640,480,24)\n",
    "\n",
    "# hdmi_in = base.video.hdmi_in\n",
    "\n",
    "hdmi_out = base.video.hdmi_out\n",
    "hdmi_out.configure(Mode,PIXEL_BGR)\n",
    "hdmi_out.start()\n",
    "\n",
    "# monitor (output) frame buffer size\n",
    "frame_out_w = 1920\n",
    "frame_out_h = 1080\n",
    "# camera (input) configuration\n",
    "frame_in_w = 640\n",
    "frame_in_h = 480\n",
    "\n",
    "# initialize camera from OpenCV\n",
    "videoIn = cv2.VideoCapture(0)\n",
    "videoIn.set(cv2.CAP_PROP_FRAME_WIDTH, frame_in_w);\n",
    "videoIn.set(cv2.CAP_PROP_FRAME_HEIGHT, frame_in_h);\n",
    "\n",
    "print(\"Capture device is open: \" + str(videoIn.isOpened()))\n",
    "\n",
    "# Capture webcam image\n",
    "# Display webcam image via HDMI Out\n",
    "while (base.buttons[3].read()==0):\n",
    "    ret, frame_vga = videoIn.read()\n",
    "    if (ret):      \n",
    "        outframe = hdmi_out.newframe()\n",
    "        outframe[0:480,0:640,:] = frame_vga[0:480,0:640,:]\n",
    "        hdmi_out.writeframe(outframe)\n",
    "    else:\n",
    "        raise RuntimeError(\"Failed to read from camera.\")\n",
    "\n",
    "ret, frame_vga = videoIn.read()\n",
    "if (ret):      \n",
    "    outframe = hdmi_out.newframe()\n",
    "    outframe[0:480,0:640,:] = frame_vga[0:480,0:640,:]\n",
    "    hdmi_out.writeframe(outframe)\n",
    "else:\n",
    "    raise RuntimeError(\"Failed to read from camera.\")\n",
    "\n",
    "plt.imshow(frame_vga[:,:,[2,1,0]])\n",
    "plt.show()\n",
    "\n",
    "cv2.imwrite('/home/xilinx/pynq/overlays/picture/test.jpg',frame_vga[:,:,[2,1,0]])\n",
    "while (base.buttons[0].read()==0):\n",
    "    if(base.buttons[2].read()==1):\n",
    "        videoIn.release()\n",
    "        hdmi_out.stop()\n",
    "        del hdmi_out\n",
    "    \n"
   ]
  }
 ],
 "metadata": {
  "kernelspec": {
   "display_name": "Python 3",
   "language": "python",
   "name": "python3"
  },
  "language_info": {
   "codemirror_mode": {
    "name": "ipython",
    "version": 3
   },
   "file_extension": ".py",
   "mimetype": "text/x-python",
   "name": "python",
   "nbconvert_exporter": "python",
   "pygments_lexer": "ipython3",
   "version": "3.6.0"
  }
 },
 "nbformat": 4,
 "nbformat_minor": 2
}
